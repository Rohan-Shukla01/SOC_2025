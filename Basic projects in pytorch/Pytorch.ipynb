{
 "cells": [
  {
   "cell_type": "code",
   "execution_count": 1,
   "id": "78906dda",
   "metadata": {},
   "outputs": [
    {
     "name": "stdout",
     "output_type": "stream",
     "text": [
      "tensor([0., 0.])\n"
     ]
    }
   ],
   "source": [
    "import torch\n",
    "x=torch.empty(2) # uninitialized(random) values in the vector\n",
    "print(x)\n"
   ]
  },
  {
   "cell_type": "code",
   "execution_count": 3,
   "id": "9046c0da",
   "metadata": {},
   "outputs": [
    {
     "data": {
      "text/plain": [
       "tensor([0., 0., 0.])"
      ]
     },
     "execution_count": 3,
     "metadata": {},
     "output_type": "execute_result"
    }
   ],
   "source": [
    "torch.empty(3)\n"
   ]
  },
  {
   "cell_type": "code",
   "execution_count": 5,
   "id": "fe926a3c",
   "metadata": {},
   "outputs": [
    {
     "data": {
      "text/plain": [
       "tensor([[0., 0., 0.],\n",
       "        [0., 0., 0.]])"
      ]
     },
     "execution_count": 5,
     "metadata": {},
     "output_type": "execute_result"
    }
   ],
   "source": [
    "torch.empty(2,3)"
   ]
  },
  {
   "cell_type": "code",
   "execution_count": 6,
   "id": "1c4fd64a",
   "metadata": {},
   "outputs": [
    {
     "data": {
      "text/plain": [
       "tensor([[0.8510, 0.7914, 0.7545],\n",
       "        [0.7415, 0.9757, 0.2595]])"
      ]
     },
     "execution_count": 6,
     "metadata": {},
     "output_type": "execute_result"
    }
   ],
   "source": [
    "torch.rand(2,3)"
   ]
  },
  {
   "cell_type": "code",
   "execution_count": 7,
   "id": "b12d55a4",
   "metadata": {},
   "outputs": [
    {
     "data": {
      "text/plain": [
       "tensor([[0., 0., 0.],\n",
       "        [0., 0., 0.]])"
      ]
     },
     "execution_count": 7,
     "metadata": {},
     "output_type": "execute_result"
    }
   ],
   "source": [
    "torch.zeros(2,3)"
   ]
  },
  {
   "cell_type": "code",
   "execution_count": 10,
   "id": "823e8520",
   "metadata": {},
   "outputs": [
    {
     "name": "stdout",
     "output_type": "stream",
     "text": [
      "tensor([[1., 1., 1.],\n",
      "        [1., 1., 1.]], dtype=torch.float16)\n"
     ]
    }
   ],
   "source": [
    "print(torch.ones(2,3,dtype=torch.float16))\n"
   ]
  },
  {
   "cell_type": "code",
   "execution_count": 9,
   "id": "ebf6b852",
   "metadata": {},
   "outputs": [
    {
     "name": "stdout",
     "output_type": "stream",
     "text": [
      "torch.float32\n"
     ]
    }
   ],
   "source": [
    "print(x.dtype)"
   ]
  },
  {
   "cell_type": "code",
   "execution_count": 12,
   "id": "bca8028d",
   "metadata": {},
   "outputs": [
    {
     "name": "stdout",
     "output_type": "stream",
     "text": [
      "torch.Size([2])\n"
     ]
    }
   ],
   "source": [
    "print(x.size())"
   ]
  },
  {
   "cell_type": "code",
   "execution_count": 15,
   "id": "a15f2637",
   "metadata": {},
   "outputs": [
    {
     "data": {
      "text/plain": [
       "tensor([2.5000, 3.6000])"
      ]
     },
     "execution_count": 15,
     "metadata": {},
     "output_type": "execute_result"
    }
   ],
   "source": [
    "y=torch.tensor([2.5,3.6])\n",
    "y"
   ]
  },
  {
   "cell_type": "code",
   "execution_count": 18,
   "id": "1ea453b8",
   "metadata": {},
   "outputs": [
    {
     "name": "stdout",
     "output_type": "stream",
     "text": [
      "tensor([1, 4])   tensor([2, 3])\n",
      "tensor([3, 7])   tensor([3, 7])\n",
      "tensor([-1,  1])   tensor([-1,  1])\n",
      "tensor([ 2, 12])   tensor([ 2, 12])\n",
      "tensor([0.5000, 1.3333])   tensor([0.5000, 1.3333])\n",
      "tensor(14)\n"
     ]
    }
   ],
   "source": [
    "#operators work more or less like numpy\n",
    "x=torch.tensor([1,4])\n",
    "y=torch.tensor([2,3])\n",
    "print(x,' ',y)\n",
    "print(x+y,' ',torch.add(x,y))\n",
    "print(x-y,' ',torch.sub(x,y))\n",
    "print(x*y,' ',torch.mul(x,y))\n",
    "print(x/y,' ',torch.div(x,y))\n",
    "print(x.dot(y))"
   ]
  },
  {
   "cell_type": "code",
   "execution_count": 19,
   "id": "4aa41355",
   "metadata": {},
   "outputs": [
    {
     "name": "stdout",
     "output_type": "stream",
     "text": [
      "tensor([3, 7])\n"
     ]
    }
   ],
   "source": [
    "#inplace operations- same operations but with an underscore\n",
    "y.add_(x)\n",
    "print(y)"
   ]
  },
  {
   "cell_type": "code",
   "execution_count": 20,
   "id": "c07c1718",
   "metadata": {},
   "outputs": [
    {
     "name": "stdout",
     "output_type": "stream",
     "text": [
      "tensor([[0.6411, 0.0725, 0.1019],\n",
      "        [0.8351, 0.8413, 0.7158],\n",
      "        [0.8776, 0.6073, 0.9281],\n",
      "        [0.3597, 0.1900, 0.8691],\n",
      "        [0.4933, 0.4353, 0.4978]])\n",
      "tensor([[0.0725, 0.1019],\n",
      "        [0.8413, 0.7158],\n",
      "        [0.6073, 0.9281],\n",
      "        [0.1900, 0.8691],\n",
      "        [0.4353, 0.4978]])\n"
     ]
    }
   ],
   "source": [
    "#slicing like numpy arrays is also valid\n",
    "z=torch.rand(5,3)\n",
    "print(z)\n",
    "print(z[:,1:])"
   ]
  },
  {
   "cell_type": "code",
   "execution_count": 21,
   "id": "9bd81bb0",
   "metadata": {},
   "outputs": [
    {
     "name": "stdout",
     "output_type": "stream",
     "text": [
      "0.9280954599380493\n"
     ]
    }
   ],
   "source": [
    "#.item() method\n",
    "#we can only use this when we have a 1x1 tenaor\n",
    "print(z[2,2].item())"
   ]
  },
  {
   "cell_type": "code",
   "execution_count": null,
   "id": "e2aa5e80",
   "metadata": {},
   "outputs": [
    {
     "name": "stdout",
     "output_type": "stream",
     "text": [
      "tensor([[2, 3, 3, 5],\n",
      "        [3, 0, 1, 4],\n",
      "        [3, 2, 2, 5],\n",
      "        [1, 4, 1, 0]])\n",
      "tensor([2, 3, 3, 5, 3, 0, 1, 4, 3, 2, 2, 5, 1, 4, 1, 0])\n"
     ]
    }
   ],
   "source": [
    "#reshaping\n",
    "x=torch.randint(low=0,high=6,size=(4,4)) #high value is exclusive\n",
    "print(x)\n",
    "y=x.view(-1) #calc dimension yourself\n",
    "print(y)"
   ]
  },
  {
   "cell_type": "code",
   "execution_count": 27,
   "id": "7a78167d",
   "metadata": {},
   "outputs": [
    {
     "name": "stdout",
     "output_type": "stream",
     "text": [
      "tensor([3, 3, 3, 5, 3, 0, 1, 4, 3, 2, 2, 5, 1, 4, 1, 0])\n",
      "tensor([[3, 3, 3, 5],\n",
      "        [3, 0, 1, 4],\n",
      "        [3, 2, 2, 5],\n",
      "        [1, 4, 1, 0]])\n"
     ]
    }
   ],
   "source": [
    "#y is a shallow copy of x, changes in y and x affect each other\n",
    "y[0]=3\n",
    "print(y)\n",
    "print(x)"
   ]
  },
  {
   "cell_type": "code",
   "execution_count": 29,
   "id": "0248e061",
   "metadata": {},
   "outputs": [
    {
     "name": "stdout",
     "output_type": "stream",
     "text": [
      "tensor([[3, 3, 3, 5, 3, 0, 1, 4],\n",
      "        [3, 2, 2, 5, 1, 4, 1, 0]])\n",
      "torch.Size([2, 8])\n",
      "torch.Size([2, 8])\n",
      "16\n"
     ]
    }
   ],
   "source": [
    "z=x.view(-1,8)\n",
    "print(z)\n",
    "print(z.size())\n",
    "print(z.shape)\n",
    "print(z.numel()) #total no. of elements, like size para in numpy"
   ]
  },
  {
   "cell_type": "markdown",
   "id": "6ab2afcb",
   "metadata": {},
   "source": [
    "If you have GPU available and want to perform faster operations using it-\n",
    "you have to move the tensor to the gpu\n",
    "but note that, a gpu tensor cannot be converted to numpy array, to do that it has to be brought back to cpu\n"
   ]
  },
  {
   "cell_type": "code",
   "execution_count": 1,
   "id": "4592db4a",
   "metadata": {},
   "outputs": [],
   "source": [
    "import torch \n",
    "import numpy as np\n",
    "if torch.cuda.is_available():\n",
    "    device=torch.device(\"cuda\")\n",
    "    x=torch.ones(5,device=device)\n",
    "    y=torch.ones(5)\n",
    "    y=y.to(device)\n",
    "    z=x+y#much faster\n",
    "    z=z.to(\"cpu\") #now numpy can handle it\n",
    "    print(z)"
   ]
  },
  {
   "cell_type": "code",
   "execution_count": 31,
   "id": "fe80244f",
   "metadata": {},
   "outputs": [
    {
     "name": "stdout",
     "output_type": "stream",
     "text": [
      "tensor([1., 1., 1., 1., 1.], requires_grad=True)\n"
     ]
    }
   ],
   "source": [
    "#requires_grad\n",
    "x=torch.ones(5,requires_grad=True)\n",
    "print(x)"
   ]
  },
  {
   "cell_type": "code",
   "execution_count": null,
   "id": "4394f27d",
   "metadata": {},
   "outputs": [],
   "source": []
  }
 ],
 "metadata": {
  "kernelspec": {
   "display_name": "Python 3",
   "language": "python",
   "name": "python3"
  },
  "language_info": {
   "codemirror_mode": {
    "name": "ipython",
    "version": 3
   },
   "file_extension": ".py",
   "mimetype": "text/x-python",
   "name": "python",
   "nbconvert_exporter": "python",
   "pygments_lexer": "ipython3",
   "version": "3.12.8"
  }
 },
 "nbformat": 4,
 "nbformat_minor": 5
}
