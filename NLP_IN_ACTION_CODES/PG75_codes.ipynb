{
 "cells": [
  {
   "cell_type": "code",
   "execution_count": 1,
   "id": "827ab8ad",
   "metadata": {},
   "outputs": [
    {
     "name": "stdout",
     "output_type": "stream",
     "text": [
      "       Thomas  Jefferson  began  building  Monticello  at  the  age  of  26.\n",
      "sent0       1          1      1         1           1   1    1    1   1    1\n",
      "sent1       0          0      0         0           0   0    0    0   0    0\n",
      "sent2       0          0      0         0           0   0    1    0   0    0\n",
      "sent3       0          0      0         0           1   0    0    0   0    0\n"
     ]
    }
   ],
   "source": [
    "sentence=\"Thomas Jefferson  began building Monticello at the age of 26.\\n\"\n",
    "sentence+=\"Construction was done mostly by local masons and\\\n",
    "    carpenters.\\n\"\n",
    "sentence+=\"He moved into the South Pavilion in 1770.\\n\"\n",
    "sentence+=\"Turning Monticello into a neoclassical masterpiece\\\n",
    "    was Jefferson's obsession.\"\n",
    "corpus={}\n",
    "for i, sent in enumerate(sentence.split('\\n')):\n",
    "    corpus[f'sent{i}']=dict((tok,1) for tok in sent.split())\n",
    "import pandas as pd\n",
    "df=pd.DataFrame(corpus).fillna(0).astype(int).T\n",
    "print(df.iloc[:,0:10])"
   ]
  },
  {
   "cell_type": "code",
   "execution_count": 4,
   "id": "636f287b",
   "metadata": {},
   "outputs": [
    {
     "name": "stdout",
     "output_type": "stream",
     "text": [
      "1\n"
     ]
    }
   ],
   "source": [
    "i=df.loc['sent0'].dot(df.loc['sent3'])\n",
    "print(i)"
   ]
  },
  {
   "cell_type": "code",
   "execution_count": 7,
   "id": "98f57bf4",
   "metadata": {},
   "outputs": [
    {
     "name": "stdout",
     "output_type": "stream",
     "text": [
      "[('Monticello', 1)]\n"
     ]
    }
   ],
   "source": [
    "print([(k,v) for k,v in (df.loc['sent0'] & df.loc['sent3']).items() if v])"
   ]
  },
  {
   "cell_type": "markdown",
   "id": "67e23563",
   "metadata": {},
   "source": [
    "Code to remove punctuation marks."
   ]
  },
  {
   "cell_type": "code",
   "execution_count": 10,
   "id": "79e9a341",
   "metadata": {},
   "outputs": [
    {
     "data": {
      "text/plain": [
       "['Thomas',\n",
       " 'Jefferson',\n",
       " 'began',\n",
       " 'building',\n",
       " 'Monticello',\n",
       " 'at',\n",
       " 'the',\n",
       " 'age',\n",
       " 'of',\n",
       " '26',\n",
       " '']"
      ]
     },
     "execution_count": 10,
     "metadata": {},
     "output_type": "execute_result"
    }
   ],
   "source": [
    "sentence=\"Thomas Jefferson began building Monticello at the\\\n",
    "    age of 26.\"\n",
    "import re\n",
    "tokens=re.split(r'[-\\s,!.?;]+',sentence)\n",
    "tokens"
   ]
  },
  {
   "cell_type": "code",
   "execution_count": 12,
   "id": "79aa8d91",
   "metadata": {},
   "outputs": [
    {
     "name": "stdout",
     "output_type": "stream",
     "text": [
      "['Thomas', 'Jefferson', 'began', 'building', 'Monticello', 'at', 'the', 'age', 'of', '26']\n"
     ]
    },
    {
     "name": "stderr",
     "output_type": "stream",
     "text": [
      "<>:2: SyntaxWarning: invalid escape sequence '\\s'\n",
      "<>:2: SyntaxWarning: invalid escape sequence '\\s'\n",
      "C:\\Users\\Rohan\\AppData\\Local\\Temp\\ipykernel_23572\\3267559910.py:2: SyntaxWarning: invalid escape sequence '\\s'\n",
      "  tokens=[x for x in tokens if x and x not in '-\\s.!?;,']\n"
     ]
    }
   ],
   "source": [
    "#filtering token to show onlt meaningful words\n",
    "tokens=[x for x in tokens if x and x not in '-\\s.!?;,']\n",
    "print(tokens)"
   ]
  },
  {
   "cell_type": "code",
   "execution_count": null,
   "id": "3dbe3a01",
   "metadata": {},
   "outputs": [],
   "source": []
  }
 ],
 "metadata": {
  "kernelspec": {
   "display_name": "Python 3",
   "language": "python",
   "name": "python3"
  },
  "language_info": {
   "codemirror_mode": {
    "name": "ipython",
    "version": 3
   },
   "file_extension": ".py",
   "mimetype": "text/x-python",
   "name": "python",
   "nbconvert_exporter": "python",
   "pygments_lexer": "ipython3",
   "version": "3.12.8"
  }
 },
 "nbformat": 4,
 "nbformat_minor": 5
}
