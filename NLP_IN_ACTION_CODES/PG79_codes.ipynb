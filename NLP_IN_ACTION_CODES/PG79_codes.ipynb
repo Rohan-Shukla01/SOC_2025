{
 "cells": [
  {
   "cell_type": "code",
   "execution_count": 1,
   "id": "8e19de02",
   "metadata": {},
   "outputs": [
    {
     "name": "stdout",
     "output_type": "stream",
     "text": [
      "['Thomas', 'Jefferson', 'began', 'building', 'Monticello', 'at', 'the', 'age', 'of', '26', '.']\n"
     ]
    }
   ],
   "source": [
    "#NLTK tokeniser\n",
    "from nltk.tokenize import TreebankWordTokenizer\n",
    "from nltk.tokenize import RegexpTokenizer\n",
    "\n",
    "sentence=\"Thomas Jefferson began building Monticello at the\\\n",
    "    age of 26.\"\n",
    "regex=RegexpTokenizer(r'\\w+|[0-9]+|\\S+')\n",
    "token=regex.tokenize(sentence)\n",
    "print(token)"
   ]
  },
  {
   "cell_type": "code",
   "execution_count": 2,
   "id": "c1eccaed",
   "metadata": {},
   "outputs": [
    {
     "name": "stdout",
     "output_type": "stream",
     "text": [
      "['Monticello', 'was', \"n't\", 'designated', 'as', 'UNESCO', 'World', 'Heritage', 'Site', 'until', '1987', '.']\n"
     ]
    }
   ],
   "source": [
    "#better tokenizer\n",
    "sentence=\"Monticello wasn't designated as UNESCO World Heritage\\\n",
    "    Site until 1987.\"\n",
    "tokenizer=TreebankWordTokenizer()\n",
    "s=tokenizer.tokenize(sentence)\n",
    "print(s)"
   ]
  },
  {
   "cell_type": "code",
   "execution_count": 3,
   "id": "613b554b",
   "metadata": {},
   "outputs": [
    {
     "name": "stdout",
     "output_type": "stream",
     "text": [
      "['RT', '@TJMonticello', 'Best', 'day', 'everrrrrrr', 'at', 'Monticello', '.', 'Awesommmmmmeeeeeeee', 'day', ':*)']\n",
      "['RT', 'Best', 'day', 'everrr', 'at', 'Monticello', '.', 'Awesommmeee', 'day', ':*)']\n"
     ]
    }
   ],
   "source": [
    "#casual_tokenize\n",
    "from nltk.tokenize.casual import casual_tokenize\n",
    "msg=\"RT @TJMonticello Best day everrrrrrr at Monticello.\\\n",
    "    Awesommmmmmeeeeeeee day :*)\"\n",
    "print(casual_tokenize(msg))\n",
    "#remove usernames and reduce repetitions to three\n",
    "print(casual_tokenize(msg,strip_handles=True,reduce_len=True))"
   ]
  },
  {
   "cell_type": "code",
   "execution_count": null,
   "id": "8ed3f0ee",
   "metadata": {},
   "outputs": [],
   "source": []
  }
 ],
 "metadata": {
  "kernelspec": {
   "display_name": "Python 3",
   "language": "python",
   "name": "python3"
  },
  "language_info": {
   "codemirror_mode": {
    "name": "ipython",
    "version": 3
   },
   "file_extension": ".py",
   "mimetype": "text/x-python",
   "name": "python",
   "nbconvert_exporter": "python",
   "pygments_lexer": "ipython3",
   "version": "3.12.8"
  }
 },
 "nbformat": 4,
 "nbformat_minor": 5
}
