{
 "cells": [
  {
   "cell_type": "code",
   "execution_count": 2,
   "id": "c0c27a1f",
   "metadata": {},
   "outputs": [
    {
     "data": {
      "text/plain": [
       "['Thomas Jefferson',\n",
       " 'Jefferson began',\n",
       " 'began building',\n",
       " 'building Monticello',\n",
       " 'Monticello at',\n",
       " 'at the',\n",
       " 'the age',\n",
       " 'age of',\n",
       " 'of 26']"
      ]
     },
     "execution_count": 2,
     "metadata": {},
     "output_type": "execute_result"
    }
   ],
   "source": [
    "from nltk.tokenize import TreebankWordTokenizer\n",
    "from nltk.util import ngrams\n",
    "import string\n",
    "sentence=\"Thomas Jefferson began building Monticello at the\\\n",
    "    age of 26.\"\n",
    "tok=TreebankWordTokenizer()\n",
    "tokens=[i for i in tok.tokenize(sentence) if i not in string.punctuation]\n",
    "a=list(ngrams(tokens,2))\n",
    "b=[\" \".join(i) for i in a]\n",
    "b"
   ]
  },
  {
   "cell_type": "code",
   "execution_count": null,
   "id": "45630c3b",
   "metadata": {},
   "outputs": [],
   "source": []
  }
 ],
 "metadata": {
  "language_info": {
   "name": "python"
  }
 },
 "nbformat": 4,
 "nbformat_minor": 5
}
