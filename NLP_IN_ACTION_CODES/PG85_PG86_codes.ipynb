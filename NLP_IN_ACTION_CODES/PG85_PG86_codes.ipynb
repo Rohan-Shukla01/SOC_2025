{
 "cells": [
  {
   "cell_type": "code",
   "execution_count": 1,
   "id": "0159e895",
   "metadata": {},
   "outputs": [
    {
     "name": "stdout",
     "output_type": "stream",
     "text": [
      "['house', 'fire']\n"
     ]
    }
   ],
   "source": [
    "#basic implemented stopwords\n",
    "sw=['a','an','the','on','of','off','this','is']\n",
    "tokens=['the','house','is','on','fire']\n",
    "tokens_filtered=[i for i in tokens if i not in sw]\n",
    "print(tokens_filtered)"
   ]
  },
  {
   "cell_type": "code",
   "execution_count": 3,
   "id": "166e30ec",
   "metadata": {},
   "outputs": [
    {
     "name": "stdout",
     "output_type": "stream",
     "text": [
      "198\n",
      "['a', 'about', 'above', 'after', 'again', 'against', 'ain']\n",
      "['a', 'd', 'i', 'm', 'o', 's', 't', 'y']\n"
     ]
    },
    {
     "name": "stderr",
     "output_type": "stream",
     "text": [
      "[nltk_data] Downloading package stopwords to\n",
      "[nltk_data]     C:\\Users\\Rohan\\AppData\\Roaming\\nltk_data...\n",
      "[nltk_data]   Package stopwords is already up-to-date!\n"
     ]
    }
   ],
   "source": [
    "#nltk stopwords\n",
    "import nltk\n",
    "nltk.download('stopwords')\n",
    "sw=nltk.corpus.stopwords.words('english')\n",
    "print(len(sw))\n",
    "print(sw[:7])\n",
    "print([i for i in sw if len(i)==1])"
   ]
  },
  {
   "cell_type": "code",
   "execution_count": 5,
   "id": "d5e8d66f",
   "metadata": {},
   "outputs": [
    {
     "name": "stdout",
     "output_type": "stream",
     "text": [
      "318\n",
      "397\n",
      "119\n"
     ]
    }
   ],
   "source": [
    "#comparision with sklearn\n",
    "from sklearn.feature_extraction.text import ENGLISH_STOP_WORDS as sksw\n",
    "print(len(sksw))\n",
    "print(len(sksw.union(sw)))\n",
    "print(len(sksw.intersection(sw)))"
   ]
  },
  {
   "cell_type": "code",
   "execution_count": null,
   "id": "c08f3fb9",
   "metadata": {},
   "outputs": [],
   "source": []
  }
 ],
 "metadata": {
  "kernelspec": {
   "display_name": "Python 3",
   "language": "python",
   "name": "python3"
  },
  "language_info": {
   "codemirror_mode": {
    "name": "ipython",
    "version": 3
   },
   "file_extension": ".py",
   "mimetype": "text/x-python",
   "name": "python",
   "nbconvert_exporter": "python",
   "pygments_lexer": "ipython3",
   "version": "3.12.8"
  }
 },
 "nbformat": 4,
 "nbformat_minor": 5
}
