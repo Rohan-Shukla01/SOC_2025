{
  "nbformat": 4,
  "nbformat_minor": 0,
  "metadata": {
    "colab": {
      "provenance": []
    },
    "kernelspec": {
      "name": "python3",
      "display_name": "Python 3"
    },
    "language_info": {
      "name": "python"
    }
  },
  "cells": [
    {
      "cell_type": "markdown",
      "source": [
        "# SOC 2025\n",
        "Name-Rohan Shukla\n",
        "<br>\n",
        "Roll no. - 24B1274\n",
        "\n",
        "This is my attempt at maing the final project for the SOC-2025.\n",
        "<br>\n",
        "The purpose of this project is to make a sentiment analyzer using LSTM layer, which predicts the effects of news headlines or small statements on the stocks of the company. It achieves this by analyzing whether the statement suggests something positive, negative or neutral about the situation.\n",
        "<br>\n",
        "Datasets used-\n",
        "<ul>\n",
        "<li>FinancialPhraseBank- this contains files varying according to the degree of agreement on various statemnets.</li>\n",
        "\n",
        "<li>Pretrained word embeddings(GloVe)</li></ul>\n",
        "Notes-\n",
        "<br>\n",
        "-) The access to the datasets has already been provided through gdown.\n",
        "<br>\n",
        "-) This project was an effort by me, with certain helps from AI wherever it was needed. The contribution of AI has been acknowledged wherever applicable."
      ],
      "metadata": {
        "id": "loihpOkksNmg"
      }
    },
    {
      "cell_type": "markdown",
      "source": [
        "### Importing the necessary packages.\n",
        "Since, most of our training had been based on pytorch, we will try to implement this model using that only. Further, since we want to generalize to unseen statements, we can carry our several preprocessing steps on our natural sentences such as Tokenization,POS tagging, Lemmatization and Some sort of attention or equivalent mechanism.\n",
        "<br>\n",
        "With attention mechanism, it might not be that important to filter out stop words, especially so with the small size of the dataset."
      ],
      "metadata": {
        "id": "6VAKB4qBuVv6"
      }
    },
    {
      "cell_type": "code",
      "source": [
        "#importing the common packages.\n",
        "import pandas as pd\n",
        "import numpy as np\n",
        "import matplotlib.pyplot as plt\n",
        "import torch\n",
        "import torch.nn as nn\n",
        "import torch.nn.functional as F\n",
        "from torch.utils.data import TensorDataset,DataLoader\n",
        "import sklearn\n",
        "from sklearn.model_selection import train_test_split\n",
        "from sklearn.metrics import f1_score\n",
        "#importing special packages\n",
        "import nltk\n",
        "from nltk.tokenize import TreebankWordTokenizer\n",
        "from nltk.corpus import wordnet\n",
        "from nltk.stem import WordNetLemmatizer\n",
        "from nltk import pos_tag\n",
        "import gdown\n",
        "nltk.download('wordnet')\n",
        "nltk.download('averaged_perceptron_tagger_eng')\n",
        "nltk.download('punkt')\n",
        "\n",
        "#suggestion by AI, to mitigate unbalanced datasets\n",
        "from sklearn.utils.class_weight import compute_class_weight\n",
        "#Ai suggestion to handel variable length sequences\n",
        "from torch.nn.utils.rnn import pad_sequence\n"
      ],
      "metadata": {
        "colab": {
          "base_uri": "https://localhost:8080/"
        },
        "id": "lLtfr7TCvbYn",
        "outputId": "a379a7bb-bfb9-4eb2-80e8-7c2105c78dc6"
      },
      "execution_count": 1,
      "outputs": [
        {
          "output_type": "stream",
          "name": "stderr",
          "text": [
            "[nltk_data] Downloading package wordnet to /root/nltk_data...\n",
            "[nltk_data] Downloading package averaged_perceptron_tagger_eng to\n",
            "[nltk_data]     /root/nltk_data...\n",
            "[nltk_data]   Unzipping taggers/averaged_perceptron_tagger_eng.zip.\n",
            "[nltk_data] Downloading package punkt to /root/nltk_data...\n",
            "[nltk_data]   Unzipping tokenizers/punkt.zip.\n"
          ]
        }
      ]
    },
    {
      "cell_type": "markdown",
      "source": [
        "### Fetching the dataset from google drive using gdown.\n",
        "gdown has been used for this purpose as, while making this project, I faced several compatibility issues between Google Drive and Colab.\n",
        "<br>\n",
        "It's a good time saving alternative."
      ],
      "metadata": {
        "id": "MonyfRJfyh8r"
      }
    },
    {
      "cell_type": "code",
      "source": [
        "#the pre-trained GloVe embeddings\n",
        "#https://drive.google.com/file/d/1IXWrebSjgAAWAGfCK20EQ6SbeLMXKO62/view?usp=drive_link\n",
        "file_id = '1IXWrebSjgAAWAGfCK20EQ6SbeLMXKO62'\n",
        "gdown.download(f'https://drive.google.com/uc?id={file_id}', 'glove.zip', quiet=False)\n",
        "\n",
        "#the FinancialPhraseBank dataset\n",
        "#https://drive.google.com/file/d/18sPHl-GktPZ6AJtY-miO7Js3wjwBtvMv/view?usp=sharing\n",
        "file_id= '18sPHl-GktPZ6AJtY-miO7Js3wjwBtvMv'\n",
        "gdown.download(f\"https://drive.google.com/uc?id={file_id}\", 'FinancialPhraseBank-v1.0.zip', quiet=False)"
      ],
      "metadata": {
        "colab": {
          "base_uri": "https://localhost:8080/",
          "height": 192
        },
        "id": "0auK0TUqzDyL",
        "outputId": "d5662d2a-caab-4346-9c30-ecafc436d038"
      },
      "execution_count": 2,
      "outputs": [
        {
          "output_type": "stream",
          "name": "stderr",
          "text": [
            "Downloading...\n",
            "From (original): https://drive.google.com/uc?id=1IXWrebSjgAAWAGfCK20EQ6SbeLMXKO62\n",
            "From (redirected): https://drive.google.com/uc?id=1IXWrebSjgAAWAGfCK20EQ6SbeLMXKO62&confirm=t&uuid=bccdcead-d6c6-4c22-a5be-7eade1ae857f\n",
            "To: /content/glove.zip\n",
            "100%|██████████| 862M/862M [00:13<00:00, 63.2MB/s]\n",
            "Downloading...\n",
            "From: https://drive.google.com/uc?id=18sPHl-GktPZ6AJtY-miO7Js3wjwBtvMv\n",
            "To: /content/FinancialPhraseBank-v1.0.zip\n",
            "100%|██████████| 682k/682k [00:00<00:00, 35.9MB/s]\n"
          ]
        },
        {
          "output_type": "execute_result",
          "data": {
            "text/plain": [
              "'FinancialPhraseBank-v1.0.zip'"
            ],
            "application/vnd.google.colaboratory.intrinsic+json": {
              "type": "string"
            }
          },
          "metadata": {},
          "execution_count": 2
        }
      ]
    },
    {
      "cell_type": "code",
      "source": [
        "!unzip glove.zip\n",
        "!unzip FinancialPhraseBank-v1.0.zip"
      ],
      "metadata": {
        "colab": {
          "base_uri": "https://localhost:8080/"
        },
        "id": "z9IXMpZLzchj",
        "outputId": "4876ac82-3ece-417c-d862-94a16f05b3e4"
      },
      "execution_count": 3,
      "outputs": [
        {
          "output_type": "stream",
          "name": "stdout",
          "text": [
            "Archive:  glove.zip\n",
            "  inflating: glove.6B.50d.txt        \n",
            "  inflating: glove.6B.100d.txt       \n",
            "  inflating: glove.6B.200d.txt       \n",
            "  inflating: glove.6B.300d.txt       \n",
            "Archive:  FinancialPhraseBank-v1.0.zip\n",
            "   creating: FinancialPhraseBank-v1.0/\n",
            "  inflating: FinancialPhraseBank-v1.0/License.txt  \n",
            "   creating: __MACOSX/\n",
            "   creating: __MACOSX/FinancialPhraseBank-v1.0/\n",
            "  inflating: __MACOSX/FinancialPhraseBank-v1.0/._License.txt  \n",
            "  inflating: FinancialPhraseBank-v1.0/README.txt  \n",
            "  inflating: __MACOSX/FinancialPhraseBank-v1.0/._README.txt  \n",
            "  inflating: FinancialPhraseBank-v1.0/Sentences_50Agree.txt  \n",
            "  inflating: FinancialPhraseBank-v1.0/Sentences_66Agree.txt  \n",
            "  inflating: FinancialPhraseBank-v1.0/Sentences_75Agree.txt  \n",
            "  inflating: FinancialPhraseBank-v1.0/Sentences_AllAgree.txt  \n"
          ]
        }
      ]
    },
    {
      "cell_type": "markdown",
      "source": [
        "### Reading and data preparation\n"
      ],
      "metadata": {
        "id": "Qi0eDqp-zvA8"
      }
    },
    {
      "cell_type": "code",
      "source": [
        "#let's define the degree of agreement we want to use\n",
        "# use one of 50,66,75,All below\n",
        "deg_of_agree=66\n",
        "with open(rf'/content/FinancialPhraseBank-v1.0/Sentences_{deg_of_agree}Agree.txt',encoding='utf-8',errors='ignore') as f:\n",
        "  l=f.readlines()\n",
        "print(l[0].strip())\n",
        "\n",
        "#let's prepare the input(l) and target (t) lists separately\n",
        "y=[]\n",
        "for i,x in enumerate(l):\n",
        "  if x.strip().endswith('@negative'):\n",
        "    y.append(2)\n",
        "  elif x.strip().endswith('@neutral'):\n",
        "    y.append(0)\n",
        "  else:\n",
        "    y.append(1)\n",
        "  l[i]=x.strip().split('@')[0]\n",
        "\n",
        "#labels\n",
        "labels={\n",
        "    'positive':1,\n",
        "    'neutral':0,\n",
        "    'negative':2\n",
        "}\n",
        "\n",
        "#estimating the count of each category\n",
        "count={}\n",
        "for i in labels:\n",
        "  count[i]=y.count(labels[i])\n",
        "print(count)"
      ],
      "metadata": {
        "colab": {
          "base_uri": "https://localhost:8080/"
        },
        "id": "b6t6Dw-kz6f7",
        "outputId": "7cb916e6-31bd-4f5e-8fe5-87dba5bffede"
      },
      "execution_count": 4,
      "outputs": [
        {
          "output_type": "stream",
          "name": "stdout",
          "text": [
            "According to Gran , the company has no plans to move all production to Russia , although that is where the company is growing .@neutral\n",
            "{'positive': 1168, 'neutral': 2535, 'negative': 514}\n"
          ]
        }
      ]
    },
    {
      "cell_type": "code",
      "source": [
        "# storing the embeddings\n",
        "#select the embedding dimension you want to use\n",
        "#enter one of 50,100,200,300 below\n",
        "embedding_dim=100\n",
        "embedding={}\n",
        "with open(rf'/content/glove.6B.{embedding_dim}d.txt',encoding='utf-8',errors='ignore') as f:\n",
        "  for line in f:\n",
        "    values=line.split()\n",
        "    word=values[0]\n",
        "    coefs=np.array(values[1:],dtype='float32')\n",
        "    embedding[word]=coefs\n"
      ],
      "metadata": {
        "id": "pjW6FoYh2Q0_"
      },
      "execution_count": 5,
      "outputs": []
    },
    {
      "cell_type": "markdown",
      "source": [
        "### Pre-processing the data and encoding it in vector form\n",
        "In this section we use the classical tools like tokenizer,lemmatizer,etc. to get our dataset ready numerically."
      ],
      "metadata": {
        "id": "8OM0SeFsHdC4"
      }
    },
    {
      "cell_type": "code",
      "source": [
        "#tokenization\n",
        "tokenizer=TreebankWordTokenizer()\n",
        "for i in range(len(l)):\n",
        "  l[i]=tokenizer.tokenize(l[i])\n",
        "\n",
        "#pos tagging\n",
        "k=[]\n",
        "for i in range(len(l)):\n",
        "  k.append(pos_tag(l[i]))\n",
        "print(k[0:2])"
      ],
      "metadata": {
        "colab": {
          "base_uri": "https://localhost:8080/"
        },
        "id": "LhThLeU6H5sG",
        "outputId": "ce0da56c-1c9b-41f7-a6ad-f2e7f5412f05"
      },
      "execution_count": 6,
      "outputs": [
        {
          "output_type": "stream",
          "name": "stdout",
          "text": [
            "[[('According', 'VBG'), ('to', 'TO'), ('Gran', 'NNP'), (',', ','), ('the', 'DT'), ('company', 'NN'), ('has', 'VBZ'), ('no', 'DT'), ('plans', 'NNS'), ('to', 'TO'), ('move', 'VB'), ('all', 'DT'), ('production', 'NN'), ('to', 'TO'), ('Russia', 'NNP'), (',', ','), ('although', 'IN'), ('that', 'DT'), ('is', 'VBZ'), ('where', 'WRB'), ('the', 'DT'), ('company', 'NN'), ('is', 'VBZ'), ('growing', 'VBG'), ('.', '.')], [('Technopolis', 'NNP'), ('plans', 'VBZ'), ('to', 'TO'), ('develop', 'VB'), ('in', 'IN'), ('stages', 'NNS'), ('an', 'DT'), ('area', 'NN'), ('of', 'IN'), ('no', 'DT'), ('less', 'JJR'), ('than', 'IN'), ('100,000', 'CD'), ('square', 'JJ'), ('meters', 'NNS'), ('in', 'IN'), ('order', 'NN'), ('to', 'TO'), ('host', 'VB'), ('companies', 'NNS'), ('working', 'VBG'), ('in', 'IN'), ('computer', 'NN'), ('technologies', 'NNS'), ('and', 'CC'), ('telecommunications', 'NNS'), (',', ','), ('the', 'DT'), ('statement', 'NN'), ('said', 'VBD'), ('.', '.')]]\n"
          ]
        }
      ]
    },
    {
      "cell_type": "code",
      "source": [
        "# defining the function to use pos_tags for lemmatization\n",
        "def get_pos_tag(tag):\n",
        "  if tag.startswith('J'):\n",
        "    return wordnet.ADJ\n",
        "  elif tag.startswith('V'):\n",
        "    return wordnet.VERB\n",
        "  elif tag.startswith('N'):\n",
        "    return wordnet.NOUN\n",
        "  elif tag.startswith('R'):\n",
        "    return wordnet.ADV\n",
        "  else:\n",
        "    return wordnet.NOUN"
      ],
      "metadata": {
        "id": "9W5xaUfVJOOv"
      },
      "execution_count": 7,
      "outputs": []
    },
    {
      "cell_type": "code",
      "source": [
        "#lemmatization\n",
        "lemmatizer=WordNetLemmatizer()\n",
        "for i in range(len(k)):\n",
        "  for j in range(len(k[i])):\n",
        "    k[i][j]=lemmatizer.lemmatize(k[i][j][0].lower(),pos=get_pos_tag(k[i][j][1]))\n",
        "print(k[0:2])"
      ],
      "metadata": {
        "colab": {
          "base_uri": "https://localhost:8080/"
        },
        "id": "QJoguO0PKS6d",
        "outputId": "7933b43f-5ee0-48b0-f076-b0305319e42a"
      },
      "execution_count": 8,
      "outputs": [
        {
          "output_type": "stream",
          "name": "stdout",
          "text": [
            "[['accord', 'to', 'gran', ',', 'the', 'company', 'have', 'no', 'plan', 'to', 'move', 'all', 'production', 'to', 'russia', ',', 'although', 'that', 'be', 'where', 'the', 'company', 'be', 'grow', '.'], ['technopolis', 'plan', 'to', 'develop', 'in', 'stage', 'an', 'area', 'of', 'no', 'less', 'than', '100,000', 'square', 'meter', 'in', 'order', 'to', 'host', 'company', 'work', 'in', 'computer', 'technology', 'and', 'telecommunication', ',', 'the', 'statement', 'say', '.']]\n"
          ]
        }
      ]
    },
    {
      "cell_type": "code",
      "source": [
        "#Counting the frequency of each word, to later use stop_word filtering based on frequency.\n",
        "freq={}\n",
        "for i in range(len(k)):\n",
        "  for j in range(len(k[i])):\n",
        "    if k[i][j] in freq:\n",
        "      freq[k[i][j]]+=1\n",
        "    else:\n",
        "      freq[k[i][j]]=1\n"
      ],
      "metadata": {
        "id": "tz_uWLUKKeBI"
      },
      "execution_count": 9,
      "outputs": []
    },
    {
      "cell_type": "code",
      "source": [
        "#Stop word filtering\n",
        "#here we define the minimum and maximum thresholds a word must satisfy in order to significantly contribute to the sentiment of sentence.\n",
        "lower_lim=1\n",
        "upper_lim=500\n",
        "stop_words=[k for k,v in freq.items() if ((v<lower_lim) or (v>upper_lim))]\n",
        "stop_words"
      ],
      "metadata": {
        "colab": {
          "base_uri": "https://localhost:8080/"
        },
        "id": "p3WAbnnKLaPe",
        "outputId": "e9dc8de7-f3ed-4c18-c878-6317de83d103"
      },
      "execution_count": 10,
      "outputs": [
        {
          "output_type": "execute_result",
          "data": {
            "text/plain": [
              "['to',\n",
              " ',',\n",
              " 'the',\n",
              " 'company',\n",
              " 'have',\n",
              " 'be',\n",
              " '.',\n",
              " 'in',\n",
              " 'of',\n",
              " 'and',\n",
              " 'it',\n",
              " \"'s\",\n",
              " 'for',\n",
              " 'a',\n",
              " 'from',\n",
              " 'by',\n",
              " 'eur',\n",
              " 'mn',\n",
              " 'will',\n",
              " 'on']"
            ]
          },
          "metadata": {},
          "execution_count": 10
        }
      ]
    },
    {
      "cell_type": "code",
      "source": [
        "#vocab\n",
        "vocab=list(freq.keys())\n",
        "len(vocab)"
      ],
      "metadata": {
        "colab": {
          "base_uri": "https://localhost:8080/"
        },
        "id": "7NfZNZoxMUsI",
        "outputId": "a55b6196-9eb3-4f49-83fe-9c3497381e57"
      },
      "execution_count": 11,
      "outputs": [
        {
          "output_type": "execute_result",
          "data": {
            "text/plain": [
              "9400"
            ]
          },
          "metadata": {},
          "execution_count": 11
        }
      ]
    },
    {
      "cell_type": "code",
      "source": [
        "for i in vocab:\n",
        "  if i in stop_words:\n",
        "    vocab.remove(i)\n",
        "temp=[]\n",
        "for i in range(len(k)):\n",
        "  temp_in=[]\n",
        "  for j in range(len(k[i])):\n",
        "    if k[i][j] not in stop_words:\n",
        "      temp_in.append(k[i][j])\n",
        "  temp.append(temp_in)\n",
        "k=temp\n",
        "len(vocab)"
      ],
      "metadata": {
        "colab": {
          "base_uri": "https://localhost:8080/"
        },
        "id": "b3OilmjONFWw",
        "outputId": "5b123b22-7a86-4c6b-d87f-6b786aef4cd8"
      },
      "execution_count": 12,
      "outputs": [
        {
          "output_type": "execute_result",
          "data": {
            "text/plain": [
              "9382"
            ]
          },
          "metadata": {},
          "execution_count": 12
        }
      ]
    },
    {
      "cell_type": "code",
      "source": [
        "#adding a padding token to the embedding that we will use use pad the sequences to the same length\n",
        "#embedding['<PAD>']=np.zeros(dim)\n",
        "\n",
        "#setting a reasonable cutoff for padding\n",
        "#lengths=[len(s) for s in k]\n",
        "#utoff=np.percentile(lengths,90)\n",
        "#print(cutoff)\n",
        "#first we will try to train without batching to let lstm handle the necessary info only.\n",
        "for i in range(len(k)):\n",
        "  for j in range(len(k[i])):\n",
        "    k[i][j]=embedding.get(k[i][j],np.zeros(embedding_dim))\n"
      ],
      "metadata": {
        "id": "Mm-9xdYqN5Hd"
      },
      "execution_count": 13,
      "outputs": []
    },
    {
      "cell_type": "markdown",
      "source": [
        "### Let us define the hyperparameters and model\n",
        "Here, we use the lstm layer and default hidden state starting point of a zero vector. Now as we have a huge inequality in the lengths of the sentences, instead of using padding, we first try to not use batches and length and let LSTM handle the variable lengths."
      ],
      "metadata": {
        "id": "nIBqG-HMWPAM"
      }
    },
    {
      "cell_type": "code",
      "source": [
        "#AI generated procedure to deal with imbalance in the number of sentences available for each label\n",
        "device='cuda' if torch.cuda.is_available() else 'cpu'\n",
        "# Compute weights\n",
        "classes = np.array([0, 1, 2])  # neutral, positive, negative (example)\n",
        "y_labels = y  # your full label list as a numpy array\n",
        "weights = compute_class_weight(class_weight='balanced',classes=classes, y=y_labels)\n",
        "\n",
        "# Convert to tensor and use in loss\n",
        "class_weights = torch.tensor(weights, dtype=torch.float).to(device)\n",
        "criterion = nn.CrossEntropyLoss(weight=class_weights)\n",
        "print(class_weights)"
      ],
      "metadata": {
        "colab": {
          "base_uri": "https://localhost:8080/"
        },
        "id": "QRZCaR3NW59p",
        "outputId": "f56ef14f-d600-4f08-fd0f-e75fadaafe43"
      },
      "execution_count": 14,
      "outputs": [
        {
          "output_type": "stream",
          "name": "stdout",
          "text": [
            "tensor([0.5545, 1.2035, 2.7348])\n"
          ]
        }
      ]
    },
    {
      "cell_type": "code",
      "source": [
        "#hyperparameters\n",
        "embedding_dim=embedding_dim\n",
        "hidden_size=12\n",
        "num_classes=3\n",
        "drop_out=0.35\n",
        "attention_size=8\n",
        "num_epochs=10\n",
        "learning_rate=0.001\n",
        "batch_size=1 #fixed"
      ],
      "metadata": {
        "id": "evHGjWToXUfV"
      },
      "execution_count": 15,
      "outputs": []
    },
    {
      "cell_type": "code",
      "source": [
        "#model\n",
        "class model(nn.Module):\n",
        "  def __init__(self,hidden_size,num_classes,attention_size,criterion,drop_out):\n",
        "    super().__init__()\n",
        "    self.l1=nn.LSTM(embedding_dim,hidden_size,batch_first=True) #we plan to use only one batch\n",
        "    self.actv=nn.ReLU()\n",
        "    self.out=nn.Linear(hidden_size,num_classes)\n",
        "    self.Key=nn.Linear(embedding_dim,attention_size,bias=False)\n",
        "    self.Query=nn.Linear(embedding_dim,attention_size,bias=False)\n",
        "    self.Val=nn.Linear(embedding_dim,embedding_dim,bias=False)\n",
        "    self.loss=criterion\n",
        "    self.dropout=nn.Dropout(drop_out)\n",
        "  def forward(self,x,targets=None):\n",
        "    # x is shaped as (1,seq_len,embedding_dim)\n",
        "    output=self.attention(x)\n",
        "    output,_=self.l1(output)\n",
        "    output=output[:,-1,:]\n",
        "    output=self.actv(output)\n",
        "    output=self.dropout(output)\n",
        "    output=self.out(output)\n",
        "\n",
        "    if targets is not None:\n",
        "      loss=self.loss(output,targets)\n",
        "      return output,loss\n",
        "    else:\n",
        "      return output\n",
        "\n",
        "  def attention(self,x):\n",
        "    #x is a torch tensor shaped as (1,seq_len,dim)\n",
        "    key=self.Key(x)\n",
        "    query=self.Query(x)\n",
        "    val=self.Val(x) #(1,seq_len,embedding_dim)\n",
        "\n",
        "    scores=torch.bmm(query,key.transpose(1,2))/(key.size(-1)**0.5) #(1,seq_len,seq_len)\n",
        "    attention_weights=F.softmax(scores,dim=-1) #(1,seq_len,seq_len)\n",
        "    attended_input=torch.bmm(attention_weights,val) #(1,seq_len,embedding_dim)\n",
        "    return attended_input"
      ],
      "metadata": {
        "id": "62aY5OLfYdHx"
      },
      "execution_count": 16,
      "outputs": []
    },
    {
      "cell_type": "markdown",
      "source": [
        "### Splitting the dataset."
      ],
      "metadata": {
        "id": "DvuTW00aXds0"
      }
    },
    {
      "cell_type": "code",
      "source": [
        "#splitting the datasets into train, test and cross validation\n",
        "train_frac=0.85\n",
        "cross_val=0.1\n",
        "test_frac=0.05\n",
        "X_train,X_test,y_train,y_test=train_test_split(k,y,test_size=(test_frac+cross_val),random_state=1)\n",
        "X_test,X_cv,y_test,y_cv=train_test_split(X_test,y_test,test_size=(cross_val/(test_frac+cross_val)),random_state=1)\n"
      ],
      "metadata": {
        "id": "6wIouIpxXyfT"
      },
      "execution_count": 17,
      "outputs": []
    },
    {
      "cell_type": "markdown",
      "metadata": {
        "id": "bf149529"
      },
      "source": [
        "### Workaround for Variable-Length Sequences\n",
        "Instead of padding, we can use a custom `Dataset` and `collate_fn` to handle variable-length sequences directly in the DataLoader.\n",
        "\n",
        "**Note-** This whole section was implemented with the help of AI. The reason for that is the traditional dataloader expects data with equal sized sequences, but we are avoididng that, as we prefer not padding the input to prevent considerable loss of information."
      ]
    },
    {
      "cell_type": "code",
      "metadata": {
        "colab": {
          "base_uri": "https://localhost:8080/"
        },
        "id": "2b43f3dd",
        "outputId": "69c0e329-85de-405d-e654-ae68159c67bf"
      },
      "source": [
        "from torch.utils.data import Dataset\n",
        "\n",
        "class VariableLengthDataset(Dataset):\n",
        "    def __init__(self, sequences, labels):\n",
        "        self.sequences = sequences\n",
        "        self.labels = labels\n",
        "\n",
        "    def __len__(self):\n",
        "        return len(self.sequences)\n",
        "\n",
        "    def __getitem__(self, idx):\n",
        "        # Convert the sequence to a tensor\n",
        "        sequence_tensor = torch.tensor(self.sequences[idx], dtype=torch.float)\n",
        "        label_tensor = torch.tensor(self.labels[idx], dtype=torch.long)\n",
        "        return sequence_tensor, label_tensor\n",
        "\n",
        "# Custom collate function to handle variable length sequences\n",
        "def variable_length_collate_fn(batch):\n",
        "    sequences = [item[0] for item in batch]\n",
        "    labels = torch.stack([item[1] for item in batch]) # Labels should have the same shape\n",
        "\n",
        "    # Return sequences as a list of tensors\n",
        "    return sequences, labels\n",
        "\n",
        "# Create custom datasets\n",
        "train_dataset = VariableLengthDataset(X_train, y_train)\n",
        "cv_dataset = VariableLengthDataset(X_cv, y_cv)\n",
        "test_dataset = VariableLengthDataset(X_test, y_test)\n",
        "\n",
        "# Create DataLoaders with the custom collate function and batch_size=1\n",
        "# Note: With batch_size=1, the collate_fn will be called for each individual item,\n",
        "# and the \"batch\" in collate_fn will be a list containing a single (sequence, label) tuple.\n",
        "train_loader = DataLoader(train_dataset, batch_size=batch_size, shuffle=True, collate_fn=variable_length_collate_fn)\n",
        "cv_loader = DataLoader(cv_dataset, batch_size=batch_size, collate_fn=variable_length_collate_fn)\n",
        "test_loader = DataLoader(test_dataset, batch_size=batch_size, collate_fn=variable_length_collate_fn)\n",
        "\n",
        "print(f\"Number of training batches: {len(train_loader)}\")\n",
        "print(f\"Number of validation batches: {len(cv_loader)}\")\n",
        "print(f\"Number of testing batches: {len(test_loader)}\")"
      ],
      "execution_count": 18,
      "outputs": [
        {
          "output_type": "stream",
          "name": "stdout",
          "text": [
            "Number of training batches: 3584\n",
            "Number of validation batches: 422\n",
            "Number of testing batches: 211\n"
          ]
        }
      ]
    },
    {
      "cell_type": "markdown",
      "source": [
        "###Training loop\n",
        "This is the main loop that we will use to train our model on the training dataset."
      ],
      "metadata": {
        "id": "353EUUCRcx2b"
      }
    },
    {
      "cell_type": "code",
      "source": [
        "#defining the model and optimizer\n",
        "prediction_model=model(hidden_size,num_classes,attention_size,criterion,drop_out)\n",
        "optimizer=torch.optim.Adam(prediction_model.parameters(),lr=learning_rate,weight_decay=1e-5) #weight_decay helps perform regularization by minimizing weights\n",
        "device='cuda' if torch.cuda.is_available() else 'cpu'\n",
        "prediction_model.to(device)"
      ],
      "metadata": {
        "colab": {
          "base_uri": "https://localhost:8080/"
        },
        "id": "nWbz3WS1dMu1",
        "outputId": "7c9c345f-79a6-4966-f519-dd4f6380c504"
      },
      "execution_count": 19,
      "outputs": [
        {
          "output_type": "execute_result",
          "data": {
            "text/plain": [
              "model(\n",
              "  (l1): LSTM(100, 12, batch_first=True)\n",
              "  (actv): ReLU()\n",
              "  (out): Linear(in_features=12, out_features=3, bias=True)\n",
              "  (Key): Linear(in_features=100, out_features=8, bias=False)\n",
              "  (Query): Linear(in_features=100, out_features=8, bias=False)\n",
              "  (Val): Linear(in_features=100, out_features=100, bias=False)\n",
              "  (loss): CrossEntropyLoss()\n",
              "  (dropout): Dropout(p=0.35, inplace=False)\n",
              ")"
            ]
          },
          "metadata": {},
          "execution_count": 19
        }
      ]
    },
    {
      "cell_type": "code",
      "source": [
        "#defining the lists to store the losses\n",
        "train_losses=[]\n",
        "validation_losses=[]\n",
        "f1_scores=[]"
      ],
      "metadata": {
        "id": "kcNNLLdjpKiE"
      },
      "execution_count": 20,
      "outputs": []
    },
    {
      "cell_type": "code",
      "source": [
        "#the loop\n",
        "prediction_model.train()\n",
        "for i in range(num_epochs):\n",
        "  total_train_loss=0.0\n",
        "  count=0\n",
        "  for x_batch,y_batch in train_loader:\n",
        "    #print(type(x_batch), type(x_batch[0]), x_batch[0].shape)\n",
        "    x_batch = torch.stack(x_batch).to(torch.float32).to(device)  # (batch, seq_len, emb_dim)\n",
        "    y_batch =y_batch.long().to(device)\n",
        "    output,loss=prediction_model(x_batch,y_batch)\n",
        "    optimizer.zero_grad()\n",
        "    loss.backward()\n",
        "    optimizer.step()\n",
        "    total_train_loss+=loss\n",
        "    count+=1\n",
        "  train_losses.append(total_train_loss/count)\n",
        "  prediction_model.eval()\n",
        "  val_loss=0.0\n",
        "  Scores=[]\n",
        "  actual=[]\n",
        "  for x_batch,y_batch in cv_loader:\n",
        "    x_batch = torch.stack(x_batch).to(torch.float32).to(device)  # (batch, seq_len, emb_dim)\n",
        "    y_batch = y_batch.long().to(device)\n",
        "    with torch.no_grad():\n",
        "      output,loss=prediction_model(x_batch,y_batch)\n",
        "    preds=torch.argmax(output,dim=1) #remember that output is just raw logit, this line converts it into actual predictions\n",
        "    val_loss+=loss\n",
        "    Scores.extend(preds.cpu().numpy())\n",
        "    actual.extend(y_batch.cpu().numpy())\n",
        "  validation_losses.append(val_loss/len(cv_loader))\n",
        "  #In the following line, the feelings were mine, the code was given by AI :-)\n",
        "  f1=f1_score(actual, Scores, average='weighted')\n",
        "  f1_scores.append(f1)\n",
        "  prediction_model.train()\n"
      ],
      "metadata": {
        "colab": {
          "base_uri": "https://localhost:8080/"
        },
        "id": "-4wokX3fq-lS",
        "outputId": "fcc7cc45-8516-43a4-aa98-cfce604a173d"
      },
      "execution_count": 21,
      "outputs": [
        {
          "output_type": "stream",
          "name": "stderr",
          "text": [
            "/tmp/ipython-input-18-3107748672.py:13: UserWarning: Creating a tensor from a list of numpy.ndarrays is extremely slow. Please consider converting the list to a single numpy.ndarray with numpy.array() before converting to a tensor. (Triggered internally at /pytorch/torch/csrc/utils/tensor_new.cpp:254.)\n",
            "  sequence_tensor = torch.tensor(self.sequences[idx], dtype=torch.float)\n"
          ]
        }
      ]
    },
    {
      "cell_type": "code",
      "source": [
        "train_losses=[i.item() for i in train_losses]\n",
        "validation_losses=[i.item() for i in validation_losses]\n"
      ],
      "metadata": {
        "id": "M2iaHDlJECuM"
      },
      "execution_count": 22,
      "outputs": []
    },
    {
      "cell_type": "code",
      "source": [
        "#plotting the loss functions\n",
        "figure=plt.figure(figsize=(10,4))\n",
        "plt.plot(range(1,num_epochs+1),train_losses,label=\"train loss\")\n",
        "plt.plot(range(1,num_epochs+1),validation_losses,label=\"validation loss\")\n",
        "plt.legend()\n",
        "plt.xlabel('epochs')\n",
        "plt.ylabel('loss')\n",
        "plt.show()"
      ],
      "metadata": {
        "colab": {
          "base_uri": "https://localhost:8080/",
          "height": 388
        },
        "id": "Az1DAQntxgvS",
        "outputId": "690f84a3-998a-45ce-e4bb-09c52273a424"
      },
      "execution_count": 23,
      "outputs": [
        {
          "output_type": "display_data",
          "data": {
            "text/plain": [
              "<Figure size 1000x400 with 1 Axes>"
            ],
            "image/png": "[encoded data removed]"
          },
          "metadata": {}
        }
      ]
    },
    {
      "cell_type": "code",
      "source": [
        "#plotting the f1_scores\n",
        "figure=plt.figure(figsize=(10,4))\n",
        "plt.plot(range(1,num_epochs+1),f1_scores,color='green')\n",
        "plt.legend()\n",
        "plt.xlabel('epochs')\n",
        "plt.ylabel('f1_score')\n",
        "plt.show()"
      ],
      "metadata": {
        "colab": {
          "base_uri": "https://localhost:8080/",
          "height": 443
        },
        "id": "y1BoUnZKD4lQ",
        "outputId": "2734e89e-a689-4980-9d88-592153afecb7"
      },
      "execution_count": 24,
      "outputs": [
        {
          "output_type": "stream",
          "name": "stderr",
          "text": [
            "/tmp/ipython-input-24-3357419074.py:4: UserWarning: No artists with labels found to put in legend.  Note that artists whose label start with an underscore are ignored when legend() is called with no argument.\n",
            "  plt.legend()\n"
          ]
        },
        {
          "output_type": "display_data",
          "data": {
            "text/plain": [
              "<Figure size 1000x400 with 1 Axes>"
            ],
            "image/png": "[encoded data removed]"
          },
          "metadata": {}
        }
      ]
    },
    {
      "cell_type": "markdown",
      "source": [
        "###Remarks about training\n",
        "As seen from the plots the model suffers from overfitting, especiallay visible after epoch-7. I think this can slightly be improves by tweaking the parameters, but overall the dataset we are using is small, and hence it becomes difficult to improve it much.\n",
        "<br>\n",
        "So, without high expectations, for the sake of completion, let us evaluate the model on the test set."
      ],
      "metadata": {
        "id": "58otvBoFK_1-"
      }
    },
    {
      "cell_type": "code",
      "source": [
        "#evaluation\n",
        "test_eval_losses=[]\n",
        "scores=[]\n",
        "pred=[]\n",
        "actual=[]\n",
        "with torch.no_grad():\n",
        "  for x_batch,y_batch in test_loader:\n",
        "    x_batch=torch.stack(x_batch).to(torch.float32).to(device)\n",
        "    y_batch=y_batch.long().to(device)\n",
        "    output,loss=prediction_model(x_batch,y_batch)\n",
        "    pred.extend(torch.argmax(output,dim=1).cpu().numpy())\n",
        "    actual.extend(y_batch.cpu().numpy())\n",
        "    test_eval_losses.append(loss.item())\n",
        "test_eval_losses=np.mean(test_eval_losses)\n",
        "pred=np.array([i.item() for i in pred],dtype=int)\n",
        "actual=np.array([i.item() for i in actual],dtype=int)\n",
        "acc=(pred==actual).sum()/len(pred)\n",
        "print(f1_score(actual,pred,average='weighted'))\n",
        "print(acc)"
      ],
      "metadata": {
        "colab": {
          "base_uri": "https://localhost:8080/"
        },
        "id": "3DTwH9XxLrHV",
        "outputId": "9ffea4c7-e366-4429-9628-bdafde983411"
      },
      "execution_count": 28,
      "outputs": [
        {
          "output_type": "stream",
          "name": "stdout",
          "text": [
            "0.7215060622394123\n",
            "0.7251184834123223\n"
          ]
        }
      ]
    },
    {
      "cell_type": "code",
      "source": [],
      "metadata": {
        "id": "pibkndDLO9hu"
      },
      "execution_count": null,
      "outputs": []
    },
    {
      "cell_type": "markdown",
      "source": [
        "###Concluding remarks\n",
        "This was a beginner level into to building an LSTM based sentiment analyzer.The accuracy was not so encouraging, but again the limitation of the size of dataset has to be taken into account.\n",
        "<br>\n",
        "Overall, it was a fun but very demanding first project to build for me as a beginner, but I cherish the experience."
      ],
      "metadata": {
        "id": "1UKWKRkxPjO2"
      }
    },
    {
      "cell_type": "code",
      "source": [],
      "metadata": {
        "id": "AWxJ4qGpQ561"
      },
      "execution_count": null,
      "outputs": []
    }
  ]
}